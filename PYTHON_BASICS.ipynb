{
 "cells": [
  {
   "cell_type": "markdown",
   "metadata": {
    "id": "Ubti006rZWoz"
   },
   "source": [
    "## Comments in python"
   ]
  },
  {
   "cell_type": "code",
   "execution_count": 5,
   "metadata": {
    "executionInfo": {
     "elapsed": 7,
     "status": "ok",
     "timestamp": 1689070039566,
     "user": {
      "displayName": "Gourav Sharma",
      "userId": "01998731826931469313"
     },
     "user_tz": -330
    },
    "id": "owQ2XEyFZIlR"
   },
   "outputs": [],
   "source": [
    "# this program adds two number\n",
    "# 3+5"
   ]
  },
  {
   "cell_type": "code",
   "execution_count": 6,
   "metadata": {
    "colab": {
     "base_uri": "https://localhost:8080/"
    },
    "executionInfo": {
     "elapsed": 14,
     "status": "ok",
     "timestamp": 1689070066946,
     "user": {
      "displayName": "Gourav Sharma",
      "userId": "01998731826931469313"
     },
     "user_tz": -330
    },
    "id": "PT2eStJhZtOp",
    "outputId": "de2770c7-3579-4ccb-e161-1b24a3e6c776"
   },
   "outputs": [
    {
     "data": {
      "text/plain": [
       "8"
      ]
     },
     "execution_count": 6,
     "metadata": {},
     "output_type": "execute_result"
    }
   ],
   "source": [
    "'this program adds two number' # string representation\n",
    "3+5"
   ]
  },
  {
   "cell_type": "code",
   "execution_count": 7,
   "metadata": {
    "colab": {
     "base_uri": "https://localhost:8080/"
    },
    "executionInfo": {
     "elapsed": 15,
     "status": "ok",
     "timestamp": 1689070103145,
     "user": {
      "displayName": "Gourav Sharma",
      "userId": "01998731826931469313"
     },
     "user_tz": -330
    },
    "id": "IdJiXKMla0ra",
    "outputId": "1ab0fc08-98e0-4551-9d64-0fefed9e1f78"
   },
   "outputs": [
    {
     "data": {
      "text/plain": [
       "8"
      ]
     },
     "execution_count": 7,
     "metadata": {},
     "output_type": "execute_result"
    }
   ],
   "source": [
    "\"this program adds two number\"\n",
    "3+5"
   ]
  },
  {
   "cell_type": "code",
   "execution_count": null,
   "metadata": {
    "id": "tBxAR8LLbGRR"
   },
   "outputs": [],
   "source": [
    "'''this program adds\n",
    " two number'''\n",
    "3+5"
   ]
  },
  {
   "cell_type": "code",
   "execution_count": null,
   "metadata": {
    "id": "skTckxVacAkS"
   },
   "outputs": [],
   "source": [
    "\"what is today's date\""
   ]
  },
  {
   "cell_type": "markdown",
   "metadata": {
    "id": "g9lmoZp4cxVG"
   },
   "source": [
    "## Variables"
   ]
  },
  {
   "cell_type": "code",
   "execution_count": 10,
   "metadata": {
    "colab": {
     "base_uri": "https://localhost:8080/"
    },
    "executionInfo": {
     "elapsed": 496,
     "status": "ok",
     "timestamp": 1689070826443,
     "user": {
      "displayName": "Gourav Sharma",
      "userId": "01998731826931469313"
     },
     "user_tz": -330
    },
    "id": "7dLMZAyvczPq",
    "outputId": "9c7818e1-2c25-407a-d63a-4f374a4384e6"
   },
   "outputs": [
    {
     "name": "stdout",
     "output_type": "stream",
     "text": [
      "8\n"
     ]
    },
    {
     "data": {
      "text/plain": [
       "3"
      ]
     },
     "execution_count": 10,
     "metadata": {},
     "output_type": "execute_result"
    }
   ],
   "source": [
    "a = 3\n",
    "b = 5\n",
    "\n",
    "print(a+b)\n",
    "a"
   ]
  },
  {
   "cell_type": "code",
   "execution_count": 14,
   "metadata": {
    "colab": {
     "base_uri": "https://localhost:8080/"
    },
    "executionInfo": {
     "elapsed": 12,
     "status": "ok",
     "timestamp": 1689071517832,
     "user": {
      "displayName": "Gourav Sharma",
      "userId": "01998731826931469313"
     },
     "user_tz": -330
    },
    "id": "CE_MMKxtdowu",
    "outputId": "eec80b5a-b58f-416c-c780-28ecf4248f02"
   },
   "outputs": [
    {
     "name": "stdout",
     "output_type": "stream",
     "text": [
      "8828.285714285714\n"
     ]
    }
   ],
   "source": [
    "# enter radius\n",
    "radius = 53\n",
    "# area is calculated\n",
    "area = (22/7) * radius**2\n",
    "print(area)"
   ]
  },
  {
   "cell_type": "code",
   "execution_count": 21,
   "metadata": {
    "colab": {
     "base_uri": "https://localhost:8080/"
    },
    "executionInfo": {
     "elapsed": 576,
     "status": "ok",
     "timestamp": 1689072079744,
     "user": {
      "displayName": "Gourav Sharma",
      "userId": "01998731826931469313"
     },
     "user_tz": -330
    },
    "id": "kOaoIVOqfYeT",
    "outputId": "d94b5b67-6909-4dc7-f7d2-6ee53a0a514a"
   },
   "outputs": [
    {
     "name": "stdout",
     "output_type": "stream",
     "text": [
      "Welcome to class Welcome to class \n"
     ]
    }
   ],
   "source": [
    "message = \"Welcome \"\n",
    "\n",
    "message = \"Welcome to class \"\n",
    "name = \"harsh\"\n",
    "\n",
    "name = message\n",
    "\n",
    "print(message + name)"
   ]
  },
  {
   "cell_type": "code",
   "execution_count": 26,
   "metadata": {
    "colab": {
     "base_uri": "https://localhost:8080/"
    },
    "executionInfo": {
     "elapsed": 4004,
     "status": "ok",
     "timestamp": 1689072489580,
     "user": {
      "displayName": "Gourav Sharma",
      "userId": "01998731826931469313"
     },
     "user_tz": -330
    },
    "id": "S1E8xYBphtVp",
    "outputId": "5790c4d8-27dd-4105-fd91-5736f8fdfbf8"
   },
   "outputs": [
    {
     "name": "stdout",
     "output_type": "stream",
     "text": [
      "enter radius value: 6\n"
     ]
    }
   ],
   "source": [
    "radius = int(input(\"enter radius value: \"))"
   ]
  },
  {
   "cell_type": "code",
   "execution_count": 27,
   "metadata": {
    "colab": {
     "base_uri": "https://localhost:8080/"
    },
    "executionInfo": {
     "elapsed": 450,
     "status": "ok",
     "timestamp": 1689072491924,
     "user": {
      "displayName": "Gourav Sharma",
      "userId": "01998731826931469313"
     },
     "user_tz": -330
    },
    "id": "dhnNgiuzkBQp",
    "outputId": "c04f567d-3970-4404-8707-8b1453c7d31c"
   },
   "outputs": [
    {
     "data": {
      "text/plain": [
       "int"
      ]
     },
     "execution_count": 27,
     "metadata": {},
     "output_type": "execute_result"
    }
   ],
   "source": [
    "type(radius)"
   ]
  },
  {
   "cell_type": "code",
   "execution_count": 31,
   "metadata": {
    "executionInfo": {
     "elapsed": 6,
     "status": "ok",
     "timestamp": 1689073836468,
     "user": {
      "displayName": "Gourav Sharma",
      "userId": "01998731826931469313"
     },
     "user_tz": -330
    },
    "id": "CL4TNZRDjAJZ"
   },
   "outputs": [],
   "source": [
    "area = radius * radius * 3.14"
   ]
  },
  {
   "cell_type": "code",
   "execution_count": 32,
   "metadata": {
    "colab": {
     "base_uri": "https://localhost:8080/"
    },
    "executionInfo": {
     "elapsed": 12,
     "status": "ok",
     "timestamp": 1689073854998,
     "user": {
      "displayName": "Gourav Sharma",
      "userId": "01998731826931469313"
     },
     "user_tz": -330
    },
    "id": "1Zb-GxczpWk5",
    "outputId": "edc0d370-2244-424c-cf67-a5c2823ed86a"
   },
   "outputs": [
    {
     "name": "stdout",
     "output_type": "stream",
     "text": [
      "<class 'int'>\n",
      "<class 'float'>\n"
     ]
    }
   ],
   "source": [
    "print(type(radius))\n",
    "print(type(area))"
   ]
  },
  {
   "cell_type": "code",
   "execution_count": 33,
   "metadata": {
    "colab": {
     "base_uri": "https://localhost:8080/"
    },
    "executionInfo": {
     "elapsed": 4670,
     "status": "ok",
     "timestamp": 1689073887455,
     "user": {
      "displayName": "Gourav Sharma",
      "userId": "01998731826931469313"
     },
     "user_tz": -330
    },
    "id": "r7XVtMCFjEek",
    "outputId": "cb5043bf-647d-4eda-89f8-e28a73f526a8"
   },
   "outputs": [
    {
     "name": "stdout",
     "output_type": "stream",
     "text": [
      "Enter amount in NZ$: 20.3\n",
      "Received amount is Rs:  1034.894\n"
     ]
    }
   ],
   "source": [
    "sent = float(input(\"Enter amount in NZ$: \"))\n",
    "received = sent * 50.98\n",
    "print(\"Received amount is Rs: \", received)"
   ]
  },
  {
   "cell_type": "code",
   "execution_count": 30,
   "metadata": {
    "colab": {
     "base_uri": "https://localhost:8080/"
    },
    "executionInfo": {
     "elapsed": 3783,
     "status": "ok",
     "timestamp": 1689073573704,
     "user": {
      "displayName": "Gourav Sharma",
      "userId": "01998731826931469313"
     },
     "user_tz": -330
    },
    "id": "-fuJ_KVcnhyy",
    "outputId": "755bb7ac-16dd-4781-a42a-fef48f9ede56"
   },
   "outputs": [
    {
     "name": "stdout",
     "output_type": "stream",
     "text": [
      "Enter amount in NZ$: 34\n",
      "Received amount is Rs:  1733.32\n"
     ]
    }
   ],
   "source": [
    "sent = eval(input(\"Enter amount in NZ$: \"))\n",
    "received = sent * 50.98\n",
    "print(\"Received amount is Rs: \", received)"
   ]
  },
  {
   "cell_type": "code",
   "execution_count": 36,
   "metadata": {
    "colab": {
     "base_uri": "https://localhost:8080/"
    },
    "executionInfo": {
     "elapsed": 13,
     "status": "ok",
     "timestamp": 1689074109678,
     "user": {
      "displayName": "Gourav Sharma",
      "userId": "01998731826931469313"
     },
     "user_tz": -330
    },
    "id": "7Od0FkqxoUrw",
    "outputId": "ceb6fb40-792d-45df-e603-40370478269d"
   },
   "outputs": [
    {
     "data": {
      "text/plain": [
       "3"
      ]
     },
     "execution_count": 36,
     "metadata": {},
     "output_type": "execute_result"
    }
   ],
   "source": [
    "(a := 3)"
   ]
  },
  {
   "cell_type": "code",
   "execution_count": 37,
   "metadata": {
    "colab": {
     "base_uri": "https://localhost:8080/"
    },
    "executionInfo": {
     "elapsed": 6,
     "status": "ok",
     "timestamp": 1689074119652,
     "user": {
      "displayName": "Gourav Sharma",
      "userId": "01998731826931469313"
     },
     "user_tz": -330
    },
    "id": "8X5Z1Y47qTG1",
    "outputId": "3f74f19e-f318-47ca-aba5-afc814c07316"
   },
   "outputs": [
    {
     "data": {
      "text/plain": [
       "3"
      ]
     },
     "execution_count": 37,
     "metadata": {},
     "output_type": "execute_result"
    }
   ],
   "source": [
    "a"
   ]
  },
  {
   "cell_type": "code",
   "execution_count": 39,
   "metadata": {
    "colab": {
     "base_uri": "https://localhost:8080/"
    },
    "executionInfo": {
     "elapsed": 3211,
     "status": "ok",
     "timestamp": 1689074217188,
     "user": {
      "displayName": "Gourav Sharma",
      "userId": "01998731826931469313"
     },
     "user_tz": -330
    },
    "id": "5m1iGO3uqarU",
    "outputId": "e619ce3a-dac7-44ec-fff2-ce1b0ec9c84c"
   },
   "outputs": [
    {
     "name": "stdout",
     "output_type": "stream",
     "text": [
      "enter radius value : 65\n",
      "13266.5\n"
     ]
    }
   ],
   "source": [
    "area = 3.14 * (radius := (eval(input(\"enter radius value : \")))**2)\n",
    "print(area)"
   ]
  },
  {
   "cell_type": "markdown",
   "metadata": {
    "id": "NR7N4i0bylq9"
   },
   "source": [
    "## print statements"
   ]
  },
  {
   "cell_type": "code",
   "execution_count": 42,
   "metadata": {
    "colab": {
     "base_uri": "https://localhost:8080/"
    },
    "executionInfo": {
     "elapsed": 12,
     "status": "ok",
     "timestamp": 1689076356216,
     "user": {
      "displayName": "Gourav Sharma",
      "userId": "01998731826931469313"
     },
     "user_tz": -330
    },
    "id": "DS6Ak1gNquOr",
    "outputId": "1dd1d9ee-56ca-4271-a023-4705277f2a4d"
   },
   "outputs": [
    {
     "name": "stdout",
     "output_type": "stream",
     "text": [
      "this is a print statement\n"
     ]
    }
   ],
   "source": [
    "print('this is a print statement')"
   ]
  },
  {
   "cell_type": "code",
   "execution_count": 50,
   "metadata": {
    "colab": {
     "base_uri": "https://localhost:8080/"
    },
    "executionInfo": {
     "elapsed": 619,
     "status": "ok",
     "timestamp": 1689076697128,
     "user": {
      "displayName": "Gourav Sharma",
      "userId": "01998731826931469313"
     },
     "user_tz": -330
    },
    "id": "aw2NhMeuy46C",
    "outputId": "ff107aee-b2d9-4a9f-ab48-d7ac0b73c64d"
   },
   "outputs": [
    {
     "name": "stdout",
     "output_type": "stream",
     "text": [
      "\n",
      "Microsoft Corporation is an American multinational technology corporation\n",
      "headquartered in Redmond, Washington. Microsoft's best-known software products\n",
      "are the Windows line of operating systems, the Microsoft Office suite, \n",
      "and the Internet Explorer and Edge web browsers\n",
      "      \n"
     ]
    }
   ],
   "source": [
    "print('''\n",
    "Microsoft Corporation is an American multinational technology corporation\n",
    "headquartered in Redmond, Washington. Microsoft's best-known software products\n",
    "are the Windows line of operating systems, the Microsoft Office suite,\n",
    "and the Internet Explorer and Edge web browsers\n",
    "      ''')"
   ]
  },
  {
   "cell_type": "code",
   "execution_count": 55,
   "metadata": {
    "colab": {
     "base_uri": "https://localhost:8080/"
    },
    "executionInfo": {
     "elapsed": 2925,
     "status": "ok",
     "timestamp": 1689077445679,
     "user": {
      "displayName": "Gourav Sharma",
      "userId": "01998731826931469313"
     },
     "user_tz": -330
    },
    "id": "OfuDnM6pzccu",
    "outputId": "a0bcb4d8-61fa-46f2-da3d-ecf0022268f3"
   },
   "outputs": [
    {
     "name": "stdout",
     "output_type": "stream",
     "text": [
      "Enter temerature in degree celcius: 44\n",
      "temperature in fahrenheit is  111.2\n",
      "temperature value is  111.2  fahrenheit\n",
      "temperature value is 111.2 fahrenheit\n",
      "temperature value is 111.2 fahrenheit\n"
     ]
    }
   ],
   "source": [
    "temp = float(input(\"Enter temerature in degree celcius: \"))\n",
    "fahrenheit = temp * (9/5) + 32\n",
    "\n",
    "print(\"temperature in fahrenheit is \", fahrenheit)\n",
    "print(\"temperature value is \", fahrenheit, \" fahrenheit\")\n",
    "print(f\"temperature value is {fahrenheit} fahrenheit\")\n",
    "print(\"temperature value is {} fahrenheit\".format(fahrenheit))"
   ]
  },
  {
   "cell_type": "markdown",
   "metadata": {
    "id": "JcqBXKOE01JZ"
   },
   "source": [
    "°C = (°F - 32) × 5/9;"
   ]
  },
  {
   "cell_type": "code",
   "execution_count": 57,
   "metadata": {
    "colab": {
     "base_uri": "https://localhost:8080/"
    },
    "executionInfo": {
     "elapsed": 10379,
     "status": "ok",
     "timestamp": 1689078648478,
     "user": {
      "displayName": "Gourav Sharma",
      "userId": "01998731826931469313"
     },
     "user_tz": -330
    },
    "id": "XvKgvfvY010f",
    "outputId": "fc1840ee-87d1-474d-8240-25d8ea76562e"
   },
   "outputs": [
    {
     "name": "stdout",
     "output_type": "stream",
     "text": [
      "enter excel marks: 123\n",
      "enter sql marks: 100\n",
      "enter python marks: 145\n",
      "\n",
      "\n",
      "      marks for excel : 123\n",
      "      marks for sql : 100\n",
      "      marks for python : 145\n",
      "      percentage : 81.78%\n",
      "      \n",
      "      \n"
     ]
    }
   ],
   "source": [
    "excel = int(input(\"enter excel marks: \"))\n",
    "sql = int(input(\"enter sql marks: \"))\n",
    "python = int(input(\"enter python marks: \"))\n",
    "\n",
    "total_marks = 450\n",
    "\n",
    "percentage = (excel + sql + python) * 100 / total_marks\n",
    "\n",
    "print(f'''\n",
    "\n",
    "      marks for excel : {excel}\n",
    "      marks for sql : {sql}\n",
    "      marks for python : {python}\n",
    "      percentage : {round(percentage,2)}%\n",
    "\n",
    "      ''')"
   ]
  },
  {
   "cell_type": "code",
   "execution_count": 60,
   "metadata": {
    "colab": {
     "base_uri": "https://localhost:8080/"
    },
    "executionInfo": {
     "elapsed": 9,
     "status": "ok",
     "timestamp": 1689079132585,
     "user": {
      "displayName": "Gourav Sharma",
      "userId": "01998731826931469313"
     },
     "user_tz": -330
    },
    "id": "DtjCJtQS7amm",
    "outputId": "cc41ef8d-b1e0-467e-da22-5297b714a2b4"
   },
   "outputs": [
    {
     "name": "stdout",
     "output_type": "stream",
     "text": [
      "marks for excel 123\n",
      "marks for sql 100\n",
      "marks for python 145\n",
      "percentage 81.78 \n"
     ]
    }
   ],
   "source": [
    "print(f\"marks for excel {excel}\\nmarks for sql {sql}\\nmarks for python {python}\\npercentage {round(percentage,2)} \")"
   ]
  },
  {
   "cell_type": "code",
   "execution_count": 63,
   "metadata": {
    "colab": {
     "base_uri": "https://localhost:8080/"
    },
    "executionInfo": {
     "elapsed": 14,
     "status": "ok",
     "timestamp": 1689079400072,
     "user": {
      "displayName": "Gourav Sharma",
      "userId": "01998731826931469313"
     },
     "user_tz": -330
    },
    "id": "wcl9z_zk9aTg",
    "outputId": "65a39afd-b6a7-4b1d-f40b-7011a86018b2"
   },
   "outputs": [
    {
     "name": "stdout",
     "output_type": "stream",
     "text": [
      "marks for excel 123 marks for sql 100 marks for python 145\n",
      "marks for python 145\n"
     ]
    }
   ],
   "source": [
    "print(f\"marks for excel {excel}\", end = \" \")\n",
    "print(f\"marks for sql {sql}\", end = \" \")\n",
    "print(f\"marks for python {python}\")\n",
    "print(f\"marks for python {python}\")"
   ]
  },
  {
   "cell_type": "markdown",
   "metadata": {
    "id": "vTAALoUS_O_g"
   },
   "source": [
    "## Datatypes"
   ]
  },
  {
   "cell_type": "code",
   "execution_count": 64,
   "metadata": {
    "executionInfo": {
     "elapsed": 11,
     "status": "ok",
     "timestamp": 1689079651070,
     "user": {
      "displayName": "Gourav Sharma",
      "userId": "01998731826931469313"
     },
     "user_tz": -330
    },
    "id": "88eEr50Y-BSR"
   },
   "outputs": [],
   "source": [
    "num = 23\n",
    "num_float = 23.45\n",
    "text = \"abcd\"\n",
    "text1 = \"1234\"\n",
    "is_bool = True\n",
    "is_bool1 = False"
   ]
  },
  {
   "cell_type": "code",
   "execution_count": 65,
   "metadata": {
    "colab": {
     "base_uri": "https://localhost:8080/"
    },
    "executionInfo": {
     "elapsed": 17,
     "status": "ok",
     "timestamp": 1689079854425,
     "user": {
      "displayName": "Gourav Sharma",
      "userId": "01998731826931469313"
     },
     "user_tz": -330
    },
    "id": "DnBcLwLv_hQw",
    "outputId": "a1dfa5d9-8129-465d-9482-bdcdd5e621ba"
   },
   "outputs": [
    {
     "name": "stdout",
     "output_type": "stream",
     "text": [
      "\n",
      "\n",
      "num : <class 'int'>\n",
      "text : <class 'str'>\n",
      "num_float : <class 'float'>\n",
      "text1 : <class 'str'>\n",
      "is_bool : <class 'bool'>\n",
      "is_bool1 : <class 'bool'>\n",
      "      \n"
     ]
    }
   ],
   "source": [
    "print(f'''\n",
    "\n",
    "num : {type(num)}\n",
    "text : {type(text)}\n",
    "num_float : {type(num_float)}\n",
    "text1 : {type(text1)}\n",
    "is_bool : {type(is_bool)}\n",
    "is_bool1 : {type(is_bool1)}\n",
    "      ''')"
   ]
  },
  {
   "cell_type": "markdown",
   "metadata": {
    "id": "CMLBCeOCAS-c"
   },
   "source": [
    "## boolean conditions"
   ]
  },
  {
   "cell_type": "code",
   "execution_count": 3,
   "metadata": {
    "tags": []
   },
   "outputs": [],
   "source": [
    "age = 25\n",
    "result = age > 30"
   ]
  },
  {
   "cell_type": "code",
   "execution_count": 4,
   "metadata": {
    "tags": []
   },
   "outputs": [
    {
     "data": {
      "text/plain": [
       "True"
      ]
     },
     "execution_count": 4,
     "metadata": {},
     "output_type": "execute_result"
    }
   ],
   "source": [
    "result"
   ]
  },
  {
   "cell_type": "code",
   "execution_count": 5,
   "metadata": {
    "tags": []
   },
   "outputs": [
    {
     "data": {
      "text/plain": [
       "bool"
      ]
     },
     "execution_count": 5,
     "metadata": {},
     "output_type": "execute_result"
    }
   ],
   "source": [
    "type(result)"
   ]
  },
  {
   "cell_type": "code",
   "execution_count": 6,
   "metadata": {
    "tags": []
   },
   "outputs": [
    {
     "data": {
      "text/plain": [
       "int"
      ]
     },
     "execution_count": 6,
     "metadata": {},
     "output_type": "execute_result"
    }
   ],
   "source": [
    "type(age)"
   ]
  },
  {
   "cell_type": "code",
   "execution_count": 13,
   "metadata": {
    "tags": []
   },
   "outputs": [
    {
     "name": "stdout",
     "output_type": "stream",
     "text": [
      "<class 'int'>\n",
      "<class 'str'>\n",
      "<class 'float'>\n"
     ]
    }
   ],
   "source": [
    "length = 70\n",
    "width = \"35.5\"\n",
    "\n",
    "print(type(length))\n",
    "print(type(width))\n",
    "\n",
    "area = length * float(width)\n",
    "print(type(area))"
   ]
  },
  {
   "cell_type": "code",
   "execution_count": 16,
   "metadata": {
    "tags": []
   },
   "outputs": [
    {
     "data": {
      "text/plain": [
       "'70'"
      ]
     },
     "execution_count": 16,
     "metadata": {},
     "output_type": "execute_result"
    }
   ],
   "source": [
    "str(length)"
   ]
  },
  {
   "cell_type": "code",
   "execution_count": 14,
   "metadata": {
    "tags": []
   },
   "outputs": [
    {
     "data": {
      "text/plain": [
       "2485.0"
      ]
     },
     "execution_count": 14,
     "metadata": {},
     "output_type": "execute_result"
    }
   ],
   "source": [
    "area"
   ]
  },
  {
   "cell_type": "code",
   "execution_count": 12,
   "metadata": {
    "tags": []
   },
   "outputs": [
    {
     "data": {
      "text/plain": [
       "'pythonpythonpython'"
      ]
     },
     "execution_count": 12,
     "metadata": {},
     "output_type": "execute_result"
    }
   ],
   "source": [
    "a = \"python\"\n",
    "b = 3\n",
    "a*b"
   ]
  },
  {
   "cell_type": "code",
   "execution_count": 35,
   "metadata": {
    "tags": []
   },
   "outputs": [
    {
     "name": "stdout",
     "output_type": "stream",
     "text": [
      "False\n",
      "True\n"
     ]
    }
   ],
   "source": [
    "a,b = 0,\"abc\"\n",
    "\n",
    "print(bool(a))\n",
    "print(bool(b))"
   ]
  },
  {
   "cell_type": "code",
   "execution_count": 53,
   "metadata": {
    "tags": []
   },
   "outputs": [
    {
     "data": {
      "text/plain": [
       "52"
      ]
     },
     "execution_count": 53,
     "metadata": {},
     "output_type": "execute_result"
    }
   ],
   "source": [
    "num_list = [2,3,4,5]\n",
    "sum(2*num_list+ num_list, 10)"
   ]
  },
  {
   "cell_type": "code",
   "execution_count": 55,
   "metadata": {
    "tags": []
   },
   "outputs": [
    {
     "data": {
      "text/plain": [
       "[2, 3, 4, 5, 2, 3, 4, 5, 2, 3, 4, 5]"
      ]
     },
     "execution_count": 55,
     "metadata": {},
     "output_type": "execute_result"
    }
   ],
   "source": [
    "2*num_list + num_list"
   ]
  },
  {
   "cell_type": "code",
   "execution_count": 56,
   "metadata": {
    "tags": []
   },
   "outputs": [
    {
     "data": {
      "text/plain": [
       "42"
      ]
     },
     "execution_count": 56,
     "metadata": {},
     "output_type": "execute_result"
    }
   ],
   "source": [
    "sum(2 * num_list + num_list)"
   ]
  },
  {
   "cell_type": "code",
   "execution_count": 51,
   "metadata": {
    "tags": []
   },
   "outputs": [
    {
     "data": {
      "text/plain": [
       "[2, 3, 4, 5, 2, 3, 4, 5, 2, 3, 4, 5]"
      ]
     },
     "execution_count": 51,
     "metadata": {},
     "output_type": "execute_result"
    }
   ],
   "source": [
    "2*num_list + num_list"
   ]
  },
  {
   "cell_type": "code",
   "execution_count": 49,
   "metadata": {
    "tags": []
   },
   "outputs": [
    {
     "data": {
      "text/plain": [
       "list"
      ]
     },
     "execution_count": 49,
     "metadata": {},
     "output_type": "execute_result"
    }
   ],
   "source": [
    "type(num_list)"
   ]
  },
  {
   "cell_type": "code",
   "execution_count": 62,
   "metadata": {
    "tags": []
   },
   "outputs": [
    {
     "name": "stdout",
     "output_type": "stream",
     "text": [
      "hello, Mr.Thomas\n"
     ]
    }
   ],
   "source": [
    "\"hello Mr. A Thomas\"\n",
    "\n",
    "print(\"hello, Mr.\", \"Thomas\", sep = \"\")"
   ]
  },
  {
   "cell_type": "code",
   "execution_count": 60,
   "metadata": {
    "tags": []
   },
   "outputs": [
    {
     "name": "stdout",
     "output_type": "stream",
     "text": [
      "company_name-->revenue-->share_price\n"
     ]
    }
   ],
   "source": [
    "print(\"company_name\", \"revenue\", \"share_price\", sep = \"-->\")"
   ]
  },
  {
   "cell_type": "code",
   "execution_count": 63,
   "metadata": {
    "tags": []
   },
   "outputs": [
    {
     "data": {
      "text/plain": [
       "'pythonpythonpythonpythonpython'"
      ]
     },
     "execution_count": 63,
     "metadata": {},
     "output_type": "execute_result"
    }
   ],
   "source": [
    "a = \"python\"\n",
    "a *5"
   ]
  },
  {
   "cell_type": "code",
   "execution_count": 66,
   "metadata": {
    "tags": []
   },
   "outputs": [
    {
     "name": "stdout",
     "output_type": "stream",
     "text": [
      "python 5\n"
     ]
    }
   ],
   "source": [
    "print(\"python\",5)"
   ]
  },
  {
   "cell_type": "code",
   "execution_count": 72,
   "metadata": {
    "tags": []
   },
   "outputs": [],
   "source": [
    "\n",
    "def cal_tax(salary):\n",
    "    if salary <= 250000:\n",
    "        tax = 0\n",
    "        return tax\n",
    "    elif salary <= 500000:\n",
    "        taxable_salary = salary - 250000\n",
    "        tax = taxable_salary * 0.05\n",
    "        return tax\n",
    "    elif salary <=1000000:\n",
    "        taxable_salary = salary - 500000\n",
    "        tax = taxable_salary * 0.20 + 12500\n",
    "        return tax\n",
    "    elif salary >1000000:\n",
    "        taxable_salary = salary - 1000000\n",
    "        tax = taxable_salary*0.3 + 100000 + 12500\n",
    "        return tax"
   ]
  },
  {
   "cell_type": "code",
   "execution_count": 76,
   "metadata": {
    "tags": []
   },
   "outputs": [
    {
     "name": "stdin",
     "output_type": "stream",
     "text": [
      "Enter your annual salary 800000\n"
     ]
    },
    {
     "data": {
      "text/plain": [
       "72500.0"
      ]
     },
     "execution_count": 76,
     "metadata": {},
     "output_type": "execute_result"
    }
   ],
   "source": [
    "salary = float(input(\"Enter your annual salary\"))\n",
    "cal_tax(salary)"
   ]
  },
  {
   "cell_type": "code",
   "execution_count": 78,
   "metadata": {
    "tags": []
   },
   "outputs": [
    {
     "data": {
      "text/plain": [
       "29419463232224"
      ]
     },
     "execution_count": 78,
     "metadata": {},
     "output_type": "execute_result"
    }
   ],
   "source": [
    "x = 5\n",
    "\n",
    "(3 * x**3 + 5* x**2 - 6)**5"
   ]
  },
  {
   "cell_type": "code",
   "execution_count": 79,
   "metadata": {
    "tags": []
   },
   "outputs": [
    {
     "data": {
      "text/plain": [
       "False"
      ]
     },
     "execution_count": 79,
     "metadata": {},
     "output_type": "execute_result"
    }
   ],
   "source": [
    "a = 20\n",
    "b = 25\n",
    "\n",
    "a > b"
   ]
  },
  {
   "cell_type": "code",
   "execution_count": 81,
   "metadata": {
    "tags": []
   },
   "outputs": [
    {
     "data": {
      "text/plain": [
       "True"
      ]
     },
     "execution_count": 81,
     "metadata": {},
     "output_type": "execute_result"
    }
   ],
   "source": [
    "a < b"
   ]
  },
  {
   "cell_type": "code",
   "execution_count": 85,
   "metadata": {
    "tags": []
   },
   "outputs": [
    {
     "data": {
      "text/plain": [
       "False"
      ]
     },
     "execution_count": 85,
     "metadata": {},
     "output_type": "execute_result"
    }
   ],
   "source": [
    "20 != 20"
   ]
  },
  {
   "cell_type": "code",
   "execution_count": 86,
   "metadata": {
    "tags": []
   },
   "outputs": [
    {
     "data": {
      "text/plain": [
       "True"
      ]
     },
     "execution_count": 86,
     "metadata": {},
     "output_type": "execute_result"
    }
   ],
   "source": [
    "a != b"
   ]
  },
  {
   "cell_type": "code",
   "execution_count": 95,
   "metadata": {
    "tags": []
   },
   "outputs": [
    {
     "data": {
      "text/plain": [
       "True"
      ]
     },
     "execution_count": 95,
     "metadata": {},
     "output_type": "execute_result"
    }
   ],
   "source": [
    "salary = 25000\n",
    "\n",
    "not((salary >= 250000)) and (salary <= 500000)"
   ]
  },
  {
   "cell_type": "code",
   "execution_count": 127,
   "metadata": {
    "tags": []
   },
   "outputs": [],
   "source": [
    "a = 5\n",
    "b = 5\n",
    "c = a"
   ]
  },
  {
   "cell_type": "code",
   "execution_count": 128,
   "metadata": {
    "tags": []
   },
   "outputs": [
    {
     "data": {
      "text/plain": [
       "(140714468238248, 140714468238248, 140714468238248)"
      ]
     },
     "execution_count": 128,
     "metadata": {},
     "output_type": "execute_result"
    }
   ],
   "source": [
    "id(a), id(b), id(c)"
   ]
  },
  {
   "cell_type": "code",
   "execution_count": null,
   "metadata": {},
   "outputs": [],
   "source": []
  },
  {
   "cell_type": "code",
   "execution_count": 129,
   "metadata": {
    "tags": []
   },
   "outputs": [],
   "source": [
    "a = [2,3,4]\n",
    "b = [2,3,4]\n",
    "c = a"
   ]
  },
  {
   "cell_type": "code",
   "execution_count": 130,
   "metadata": {
    "tags": []
   },
   "outputs": [
    {
     "data": {
      "text/plain": [
       "(1314904642624, 1314904946496, 1314904642624)"
      ]
     },
     "execution_count": 130,
     "metadata": {},
     "output_type": "execute_result"
    }
   ],
   "source": [
    "id(a), id(b), id(c)"
   ]
  },
  {
   "cell_type": "code",
   "execution_count": 133,
   "metadata": {
    "tags": []
   },
   "outputs": [
    {
     "data": {
      "text/plain": [
       "(False, True)"
      ]
     },
     "execution_count": 133,
     "metadata": {},
     "output_type": "execute_result"
    }
   ],
   "source": [
    "a is b, a is c"
   ]
  },
  {
   "cell_type": "code",
   "execution_count": 134,
   "metadata": {
    "tags": []
   },
   "outputs": [
    {
     "data": {
      "text/plain": [
       "True"
      ]
     },
     "execution_count": 134,
     "metadata": {},
     "output_type": "execute_result"
    }
   ],
   "source": [
    "a == c"
   ]
  },
  {
   "cell_type": "code",
   "execution_count": 113,
   "metadata": {
    "tags": []
   },
   "outputs": [
    {
     "data": {
      "text/plain": [
       "True"
      ]
     },
     "execution_count": 113,
     "metadata": {},
     "output_type": "execute_result"
    }
   ],
   "source": [
    "a == b"
   ]
  },
  {
   "cell_type": "code",
   "execution_count": 114,
   "metadata": {
    "tags": []
   },
   "outputs": [
    {
     "data": {
      "text/plain": [
       "False"
      ]
     },
     "execution_count": 114,
     "metadata": {},
     "output_type": "execute_result"
    }
   ],
   "source": [
    "a is b"
   ]
  },
  {
   "cell_type": "code",
   "execution_count": 115,
   "metadata": {
    "tags": []
   },
   "outputs": [
    {
     "data": {
      "text/plain": [
       "True"
      ]
     },
     "execution_count": 115,
     "metadata": {},
     "output_type": "execute_result"
    }
   ],
   "source": [
    "a is c"
   ]
  },
  {
   "cell_type": "code",
   "execution_count": 137,
   "metadata": {
    "tags": []
   },
   "outputs": [],
   "source": [
    " a = {1,2,3,4,5, 4}\n",
    "a.add(6)"
   ]
  },
  {
   "cell_type": "code",
   "execution_count": 141,
   "metadata": {
    "tags": []
   },
   "outputs": [],
   "source": [
    "pga04 = [\"shariq\", \"amandeep\", \"khushi\",\"tanvi\", \"aryan\"]"
   ]
  },
  {
   "cell_type": "code",
   "execution_count": 142,
   "metadata": {
    "tags": []
   },
   "outputs": [
    {
     "data": {
      "text/plain": [
       "['shariq', 'amandeep', 'khushi', 'tanvi', 'aryan']"
      ]
     },
     "execution_count": 142,
     "metadata": {},
     "output_type": "execute_result"
    }
   ],
   "source": [
    "pga04"
   ]
  },
  {
   "cell_type": "code",
   "execution_count": 144,
   "metadata": {
    "tags": []
   },
   "outputs": [
    {
     "data": {
      "text/plain": [
       "True"
      ]
     },
     "execution_count": 144,
     "metadata": {},
     "output_type": "execute_result"
    }
   ],
   "source": [
    "\"ankit\" not in pga04"
   ]
  },
  {
   "cell_type": "code",
   "execution_count": 145,
   "metadata": {
    "tags": []
   },
   "outputs": [
    {
     "data": {
      "text/plain": [
       "True"
      ]
     },
     "execution_count": 145,
     "metadata": {},
     "output_type": "execute_result"
    }
   ],
   "source": [
    "\"shariq\" in pga04"
   ]
  },
  {
   "cell_type": "code",
   "execution_count": null,
   "metadata": {},
   "outputs": [],
   "source": []
  }
 ],
 "metadata": {
  "colab": {
   "authorship_tag": "ABX9TyPWFuCYrii6TkDcUP5Jbsra",
   "provenance": []
  },
  "kernelspec": {
   "display_name": "Python 3 (ipykernel)",
   "language": "python",
   "name": "python3"
  },
  "language_info": {
   "codemirror_mode": {
    "name": "ipython",
    "version": 3
   },
   "file_extension": ".py",
   "mimetype": "text/x-python",
   "name": "python",
   "nbconvert_exporter": "python",
   "pygments_lexer": "ipython3",
   "version": "3.11.4"
  }
 },
 "nbformat": 4,
 "nbformat_minor": 4
}
